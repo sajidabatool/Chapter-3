{
  "nbformat": 4,
  "nbformat_minor": 0,
  "metadata": {
    "colab": {
      "provenance": [],
      "toc_visible": true,
      "authorship_tag": "ABX9TyOj/R/M5HgSnA4NPKDtbM7E",
      "include_colab_link": true
    },
    "kernelspec": {
      "name": "python3",
      "display_name": "Python 3"
    },
    "language_info": {
      "name": "python"
    }
  },
  "cells": [
    {
      "cell_type": "markdown",
      "metadata": {
        "id": "view-in-github",
        "colab_type": "text"
      },
      "source": [
        "<a href=\"https://colab.research.google.com/github/sajidabatool/Chapter-3/blob/main/Untitled13.ipynb\" target=\"_parent\"><img src=\"https://colab.research.google.com/assets/colab-badge.svg\" alt=\"Open In Colab\"/></a>"
      ]
    },
    {
      "cell_type": "code",
      "execution_count": null,
      "metadata": {
        "id": "zueugZQLUo7P"
      },
      "outputs": [],
      "source": []
    },
    {
      "cell_type": "markdown",
      "source": [
        "# **Chapter no.3**\n",
        "**Question no 3.4**"
      ],
      "metadata": {
        "id": "SFkWktscUqYy"
      }
    },
    {
      "cell_type": "code",
      "source": [
        "guests_sajida=['Noureen','Madiha','Rabia','Maria','Iqra']\n",
        "print(\"Dear \"+guests_sajida[0]+\" you are invited to dinner tonight\")\n",
        "print(\"Dear \"+guests_sajida[1]+\" you are invited to dinner tonight\")\n",
        "print(\"Dear \"+guests_sajida[2]+\" you are invited to dinner tonight\")\n",
        "print(\"Dear \"+guests_sajida[3]+\" you are invited to dinner tonight\")\n",
        "print(\"Dear \"+guests_sajida[4]+\" you are invited to dinner tonight\")"
      ],
      "metadata": {
        "colab": {
          "base_uri": "https://localhost:8080/"
        },
        "id": "fUfYGH3wSscN",
        "outputId": "243a407b-844c-48c7-c7eb-dbf6723f80ad"
      },
      "execution_count": 35,
      "outputs": [
        {
          "output_type": "stream",
          "name": "stdout",
          "text": [
            "Dear Noureen you are invited to dinner tonight\n",
            "Dear Madiha you are invited to dinner tonight\n",
            "Dear Rabia you are invited to dinner tonight\n",
            "Dear Maria you are invited to dinner tonight\n",
            "Dear Iqra you are invited to dinner tonight\n"
          ]
        }
      ]
    },
    {
      "cell_type": "code",
      "source": [],
      "metadata": {
        "id": "1oPz3lPHSp08"
      },
      "execution_count": null,
      "outputs": []
    },
    {
      "cell_type": "markdown",
      "source": [
        "**Question no 3.5**\n"
      ],
      "metadata": {
        "id": "wz6j7oMjfSUX"
      }
    },
    {
      "cell_type": "code",
      "source": [
        "print(guests_sajida[1]+\" is not able to attend dinner tonight\")\n",
        "guests_sajida[1]=\"Madiha\"\n",
        "print(guests_sajida[1]+\" will attend dinner tonight\")\n",
        "print(\"Dear \"+guests_sajida[0]+\" you are invited to dinner tonight\")\n",
        "print(\"Dear \"+guests_sajida[1]+\" you are invited to dinner tonight\")\n",
        "print(\"Dear \"+guests_sajida[2]+\" you are invited to dinner tonight\")\n",
        "print(\"Dear \"+guests_sajida[3]+\" you are invited to dinner tonight\")\n",
        "print(\"Dear \"+guests_sajida[4]+\" you are invited to dinner tonight\")"
      ],
      "metadata": {
        "colab": {
          "base_uri": "https://localhost:8080/"
        },
        "id": "rTYiH4hsWfuG",
        "outputId": "ffae9f07-6e10-4082-fe62-4a9810533f29"
      },
      "execution_count": 39,
      "outputs": [
        {
          "output_type": "stream",
          "name": "stdout",
          "text": [
            "Samina is not able to attend dinner tonight\n",
            "Madiha will attend dinner tonight\n",
            "Dear Noureen you are invited to dinner tonight\n",
            "Dear Madiha you are invited to dinner tonight\n",
            "Dear Rabia you are invited to dinner tonight\n",
            "Dear Maria you are invited to dinner tonight\n",
            "Dear Iqra you are invited to dinner tonight\n"
          ]
        }
      ]
    },
    {
      "cell_type": "markdown",
      "source": [
        "**Question no 3.6**\n"
      ],
      "metadata": {
        "id": "V0gN2l87hjuJ"
      }
    },
    {
      "cell_type": "code",
      "source": [
        "print(\"Dear friends, We found a bigger dinner table. So I am inviting three more friends.\")\n",
        "guests_sajida.insert(0,'Sana')\n",
        "guests_sajida.insert(4,'Shiza')\n",
        "guests_sajida.append('Mona')\n",
        "print(\"Dear \"+guests_sajida[0]+\" you are invited to dinner tonight\")\n",
        "print(\"Dear \"+guests_sajida[1]+\" you are invited to dinner tonight\")\n",
        "print(\"Dear \"+guests_sajida[2]+\" you are invited to dinner tonight\")\n",
        "print(\"Dear \"+guests_sajida[3]+\" you are invited to dinner tonight\")\n",
        "print(\"Dear \"+guests_sajida[4]+\" you are invited to dinner tonight\")\n",
        "print(\"Dear \"+guests_sajida[5]+\" you are invited to dinner tonight\")\n",
        "print(\"Dear \"+guests_sajida[6]+\" you are invited to dinner tonight\")\n",
        "print(\"Dear \"+guests_sajida[7]+\" you are invited to dinner tonight\")"
      ],
      "metadata": {
        "colab": {
          "base_uri": "https://localhost:8080/"
        },
        "id": "Kyn0A_V4TGLX",
        "outputId": "a304b5be-18ee-45a0-f523-7978c08d95ea"
      },
      "execution_count": 29,
      "outputs": [
        {
          "output_type": "stream",
          "name": "stdout",
          "text": [
            "Dear friends, We found a bigger dinner table. So I am inviting three more friends.\n",
            "Dear Sana you are invited to dinner tonight\n",
            "Dear Noureen you are invited to dinner tonight\n",
            "Dear Saira you are invited to dinner tonight\n",
            "Dear Rabia you are invited to dinner tonight\n",
            "Dear Shiza you are invited to dinner tonight\n",
            "Dear Maria you are invited to dinner tonight\n",
            "Dear Iqra you are invited to dinner tonight\n",
            "Dear Mona you are invited to dinner tonight\n"
          ]
        }
      ]
    },
    {
      "cell_type": "markdown",
      "source": [
        "**Ques no 3.7**\n"
      ],
      "metadata": {
        "id": "eRF2ETu2mYJr"
      }
    },
    {
      "cell_type": "code",
      "source": [
        "print(\"Sorry Friends, Only two Friends can attend the Dinner\")\n",
        "guest1_removed=guests_sajida.pop(0)\n",
        "print(\"Sorry \"+guest1_removed+\" You can't attend the dinner\")\n",
        "guest2_removed=guests_sajida.pop(0)\n",
        "print(\"Sorry \"+guest2_removed+\" You can't attend the dinner\")\n",
        "guest3_removed=guests_sajida.pop(0)\n",
        "print(\"Sorry \"+guest3_removed+\" You can't attend the dinner\")\n",
        "guest4_removed=guests_sajida.pop(0)\n",
        "print(\"Sorry \"+guest4_removed+\" You can't attend the dinner\")\n",
        "guest5_removed=guests_sajida.pop(0)\n",
        "print(\"Sorry \"+guest5_removed+\" You can't attend the dinner\")\n",
        "guest6_removed=guests_sajida.pop(0)\n",
        "print(\"Sorry \"+guest6_removed+\" You can't attend the dinner\")\n",
        "print(\"Dear \"+guests_sajida[0]+\" you can attend the dinner tonight\")\n",
        "print(\"Dear \"+guests_sajida[1]+\" you can attend the dinner tonight\")\n",
        "del guests_sajida[0]\n",
        "del guests_sajida[0]\n",
        "print(guests_sajida)"
      ],
      "metadata": {
        "colab": {
          "base_uri": "https://localhost:8080/"
        },
        "id": "n8fbzwivTSIY",
        "outputId": "14fc3fff-8f7e-4666-db4d-c95300f5095a"
      },
      "execution_count": 30,
      "outputs": [
        {
          "output_type": "stream",
          "name": "stdout",
          "text": [
            "Sorry Friends, Only two Friends can attend the Dinner\n",
            "Sorry Sana You can't attend the dinner\n",
            "Sorry Noureen You can't attend the dinner\n",
            "Sorry Saira You can't attend the dinner\n",
            "Sorry Rabia You can't attend the dinner\n",
            "Sorry Shiza You can't attend the dinner\n",
            "Sorry Maria You can't attend the dinner\n",
            "Dear Iqra you can attend the dinner tonight\n",
            "Dear Mona you can attend the dinner tonight\n",
            "[]\n"
          ]
        }
      ]
    }
  ]
}